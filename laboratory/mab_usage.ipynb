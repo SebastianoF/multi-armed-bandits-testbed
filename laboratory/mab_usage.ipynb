{
 "cells": [
  {
   "cell_type": "code",
   "execution_count": 3,
   "metadata": {},
   "outputs": [],
   "source": [
    "from matplotlib import pyplot as plt\n",
    "import numpy as np"
   ]
  },
  {
   "cell_type": "code",
   "execution_count": 4,
   "metadata": {},
   "outputs": [],
   "source": [
    "%matplotlib inline"
   ]
  },
  {
   "cell_type": "code",
   "execution_count": 9,
   "metadata": {},
   "outputs": [
    {
     "data": {
      "image/png": "[encoded data removed]",
      "text/plain": [
       "<Figure size 648x288 with 1 Axes>"
      ]
     },
     "metadata": {
      "needs_background": "light"
     },
     "output_type": "display_data"
    }
   ],
   "source": [
    "\n",
    "\n",
    "def adjacent_values(vals, q1, q3):\n",
    "    upper_adjacent_value = q3 + (q3 - q1) * 1.5\n",
    "    upper_adjacent_value = np.clip(upper_adjacent_value, q3, vals[-1])\n",
    "\n",
    "    lower_adjacent_value = q1 - (q3 - q1) * 1.5\n",
    "    lower_adjacent_value = np.clip(lower_adjacent_value, vals[0], q1)\n",
    "    return lower_adjacent_value, upper_adjacent_value\n",
    "\n",
    "\n",
    "def set_axis_style(ax, labels):\n",
    "    ax.get_xaxis().set_tick_params(direction='out')\n",
    "    ax.xaxis.set_ticks_position('bottom')\n",
    "    ax.set_xticks(np.arange(1, len(labels) + 1))\n",
    "    ax.set_xticklabels(labels)\n",
    "    ax.set_xlim(0.25, len(labels) + 0.75)\n",
    "    ax.set_xlabel('Sample name')\n",
    "\n",
    "\n",
    "# create test data\n",
    "np.random.seed(19680801)\n",
    "data = [sorted(np.random.normal(0, std, 100)) for std in range(1, 5)]\n",
    "\n",
    "data += [sorted(3 * np.random.weibull(2, 100))]\n",
    "\n",
    "fig, ax2 = plt.subplots(nrows=1, ncols=1, figsize=(9, 4), sharey=True)\n",
    "\n",
    "ax2.set_title('Customized violin plot')\n",
    "parts = ax2.violinplot(\n",
    "        data, showmeans=False, showmedians=False,\n",
    "        showextrema=False)\n",
    "\n",
    "for pc in parts['bodies']:\n",
    "    pc.set_facecolor('#D43F3A')\n",
    "    pc.set_edgecolor('black')\n",
    "    pc.set_alpha(1)\n",
    "\n",
    "quartile1, medians, quartile3 = np.percentile(data, [25, 50, 75], axis=1)\n",
    "whiskers = np.array([\n",
    "    adjacent_values(sorted_array, q1, q3)\n",
    "    for sorted_array, q1, q3 in zip(data, quartile1, quartile3)])\n",
    "whiskersMin, whiskersMax = whiskers[:, 0], whiskers[:, 1]\n",
    "\n",
    "inds = np.arange(1, len(medians) + 1)\n",
    "ax2.scatter(inds, medians, marker='o', color='white', s=30, zorder=3)\n",
    "ax2.vlines(inds, quartile1, quartile3, color='k', linestyle='-', lw=5)\n",
    "ax2.vlines(inds, whiskersMin, whiskersMax, color='k', linestyle='-', lw=1)\n",
    "\n",
    "# set style for the axes\n",
    "labels = ['A', 'B', 'C', 'D', 'E']\n",
    "\n",
    "set_axis_style(ax2, labels)\n",
    "\n",
    "plt.subplots_adjust(bottom=0.15, wspace=0.05)\n",
    "plt.show()"
   ]
  },
  {
   "cell_type": "code",
   "execution_count": 1,
   "metadata": {},
   "outputs": [],
   "source": [
    "np.random.weibull?"
   ]
  },
  {
   "cell_type": "code",
   "execution_count": 26,
   "metadata": {},
   "outputs": [],
   "source": [
    "\n",
    "class MultiArmedBandit:\n",
    "    def __init__(K=10, mu=None, sigma=None, seed=None):\n",
    "        self.K = K\n",
    "        self.mu = mu\n",
    "        self.sigma = sigma\n",
    "        self.seed = seed\n",
    "        \n",
    "        if self.mu is None and self.sigma is None:\n",
    "            self._init_random_distributions()\n",
    "            \n",
    "    def _init_random_distribution(self):\n",
    "        if self.seed is not None:\n",
    "            np.seed(self.seed)\n",
    "        self.mu = tuple(np.random.uniform(-3, 3, size=self.K))\n",
    "        self.sigma = tuple(np.random.normal(0, 2, size=self.K))\n",
    "    \n",
    "    def show_distributions(self):\n",
    "        pass\n",
    "    \n",
    "    def draw_from_arm(self, k):\n",
    "        if k not in range(1, self.K + 1):\n",
    "            raise ValueError(f\"The arm k={k} must be between 1 and {self.K + 1}.\")\n",
    "        return np.random.normal(self.mu[k], self.sigma[k])\n",
    "    \n",
    "    def random_parameters_update(self, ):\n",
    "        pass"
   ]
  },
  {
   "cell_type": "code",
   "execution_count": 11,
   "metadata": {},
   "outputs": [
    {
     "data": {
      "text/plain": [
       "array([ 0.39149288, -2.43842736,  1.18605878, -0.17371077,  1.15471087,\n",
       "       -0.83188302, -0.9955948 ,  2.86972589,  1.97032882,  0.29434301])"
      ]
     },
     "execution_count": 11,
     "metadata": {},
     "output_type": "execute_result"
    }
   ],
   "source": []
  },
  {
   "cell_type": "code",
   "execution_count": null,
   "metadata": {},
   "outputs": [],
   "source": []
  }
 ],
 "metadata": {
  "kernelspec": {
   "display_name": "Python 3",
   "language": "python",
   "name": "python3"
  },
  "language_info": {
   "codemirror_mode": {
    "name": "ipython",
    "version": 3
   },
   "file_extension": ".py",
   "mimetype": "text/x-python",
   "name": "python",
   "nbconvert_exporter": "python",
   "pygments_lexer": "ipython3",
   "version": "3.8.1"
  }
 },
 "nbformat": 4,
 "nbformat_minor": 4
}
